{
 "cells": [
  {
   "cell_type": "code",
   "execution_count": null,
   "id": "31f2e18a",
   "metadata": {},
   "outputs": [
    {
     "name": "stdout",
     "output_type": "stream",
     "text": [
      "hola\n"
     ]
    }
   ],
   "source": [
    "import cv2\n",
    "\n",
    "def img_to_vect(img):\n",
    "    pass\n",
    "\n",
    "def graficar_vector_imagen(x, img):\n",
    "    pass\n",
    "\n",
    "def descorrelacion(x):\n",
    "    pass\n",
    "\n",
    "def graficar_vector(y, lista):\n",
    "    pass\n",
    "\n",
    "#Imagen1\n",
    "img1 = cv2.imread('img_01.jpg', cv2.IMREAD_GRAYSCALE)\n",
    "x1 = img_to_vect(img1)\n",
    "graficar_vector_imagen(x1, img1)\n",
    "\n",
    "#Imagen2\n",
    "img2 = cv2.imread('img_02.jpg', cv2.IMREAD_GRAYSCALE)\n",
    "x2 = img_to_vect(img2)\n",
    "graficar_vector_imagen(x2, img2)\n",
    "\n",
    "#Descorrelacion del vector X (PCA sin reducir dimension)\n",
    "y1 = descorrelacion(x1)\n",
    "y2 = descorrelacion(x2)\n",
    "\n",
    "#Graficar vectores proyectados\n",
    "graficar_vector(y1, ['Y1', 'Y2'])\n",
    "graficar_vector(y2, ['Y1', 'Y2'])\n",
    "\n",
    "\n"
   ]
  }
 ],
 "metadata": {
  "kernelspec": {
   "display_name": "Python 3",
   "language": "python",
   "name": "python3"
  },
  "language_info": {
   "codemirror_mode": {
    "name": "ipython",
    "version": 3
   },
   "file_extension": ".py",
   "mimetype": "text/x-python",
   "name": "python",
   "nbconvert_exporter": "python",
   "pygments_lexer": "ipython3",
   "version": "3.11.2"
  }
 },
 "nbformat": 4,
 "nbformat_minor": 5
}
